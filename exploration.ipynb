{
 "cells": [
  {
   "cell_type": "markdown",
   "metadata": {},
   "source": [
    "![](https://storage.googleapis.com/kaggle-competitions/kaggle/30894/logos/header.png)\n",
    "# G-Research Crypto - Exploration (FR)\n",
    "\n",
    "Dans le concours de prédiction G-Research Crypto, les participants ont le défi de prédire les rendements des prix sur un ensemble de crypto-monnaies majeures. \n",
    "\n",
    "## Crypto-monnaies\n",
    "Elles sont devenues un marché extrêmement populaire et volatile, offrant des rendements massifs (ainsi que des pertes) aux investisseurs. \n",
    "Des milliers de crypto-monnaies ont été créées avec quelques-unes majeures dont beaucoup d'entre vous ont entendu parler, notamment le Bitcoin (BTC), l'Ethereum (ETH) ou le Dogecoin (DOGE).\n",
    "Les variations de prix entre les différentes crypto-monnaies sont fortement interconnectées. \n",
    "Par exemple, Bitcoin a toujours été un moteur majeur des changements de prix entre les crypto-monnaies, mais d'autres pièces ont également un impact sur le marché.\n",
    "\n",
    "## Prévoir les rendements\n",
    "Une tâche fondamentale de la modélisation financière consiste à prédire comment les prix se comporteront dans un proche avenir. \n",
    "En utilisant les séries chronologiques de prix historiques comme données d'apprentissage, nous voulons prédire si les prix vont monter ou descendre, et de combien, à savoir les rendements des actifs.\n",
    "\n",
    "Dans ce concours, le défi est de créer des modèles d'apprentissage automatique pour prédire les rendements de 14 crypto-monnaies populaires, sur une échelle de temps allant de quelques minutes à quelques heures. \n",
    "On possède des millions de lignes de données de trading de crypto-monnaie minute par minute, avec lesquelles il faut concevoir des modèles de prévision pour les 14 actifs simultanément. \n",
    "Les prédictions sont évaluées en fonction de leur corrélation avec les données de marché réelles collectées au cours de la période d'évaluation de trois mois après la clôture du concours.\n",
    "\n",
    "La prédiction de rendements de crypto-monnaie reste une tâche de prévision ouverte et extrêmement difficile. \n",
    "Il s'agit d'un domaine problématique fascinant pour la communauté ML étant donné l'extrême volatilité des actifs, la nature non stationnaire des données, la manipulation du marché et des mèmes, la corrélation entre les actifs et l'évolution très rapide des conditions de marché. \n",
    "\n",
    "## Notes\n",
    "Ici est tout d'abord présenté la structure et les éléments de l'ensemble de données, certaines propriétés statistiques pertinentes.\n",
    "Puis la construction de quelques modèles de base de ML.\n",
    "Pour finir sur une soumission de code.\n",
    "\n",
    "Références utilisées : \n",
    "* [Tutorial to the G-Research Crypto Competition](https://www.kaggle.com/cstein06/tutorial-to-the-g-research-crypto-competition)"
   ]
  },
  {
   "cell_type": "markdown",
   "metadata": {},
   "source": [
    "# Libraries et Fonctions"
   ]
  },
  {
   "cell_type": "code",
   "execution_count": 1,
   "metadata": {},
   "outputs": [],
   "source": [
    "import time\n",
    "import pandas as pd\n",
    "import numpy as np\n",
    "import matplotlib.pyplot as plt\n",
    "import plotly.graph_objects as go\n",
    "import traceback\n",
    "from datetime import datetime"
   ]
  },
  {
   "cell_type": "code",
   "execution_count": 56,
   "metadata": {},
   "outputs": [],
   "source": [
    "def missing_timestamps(df, column=\"Asset_ID\"):\n",
    "    \"\"\"For all values of a given column, create a pandas serie of the difference of timestamp.\n",
    "    Returns the series concatenated in a DataFrame.\"\"\"\n",
    "    columns = sorted(df[column].unique())\n",
    "    to_return = pd.DataFrame()\n",
    "    for col in columns:\n",
    "        tmp = df[df[column]==col].set_index(\"timestamp\")\n",
    "        sub_df = (tmp.index[1:] - tmp.index[:-1]).value_counts()[1:]\n",
    "        sub_df.name = col\n",
    "        to_return = pd.concat([to_return, sub_df], axis=1)\n",
    "    to_return.index //= 60  # Convert to minutes\n",
    "    to_return.index.name = \"dt(min)\"\n",
    "    to_return.loc[-1] = special_sum(to_return)\n",
    "    to_return.sort_index(inplace=True) \n",
    "    to_return.rename(index={-1: \"total\"}, inplace=True)\n",
    "    return to_return\n",
    "\n",
    "def special_sum(df):\n",
    "    \"\"\"Remove 1 to the index and multiply the index to each columns before returning the sum other columns.\n",
    "    \"\"\"\n",
    "    return (df.T * (df.index - 1)).T.sum(axis=0)\n",
    "\n",
    "totimestamp = lambda s: np.int32(time.mktime(datetime.strptime(s, \"%d/%m/%Y\").timetuple()))"
   ]
  },
  {
   "cell_type": "markdown",
   "metadata": {},
   "source": [
    "# Données"
   ]
  },
  {
   "cell_type": "code",
   "execution_count": 3,
   "metadata": {},
   "outputs": [],
   "source": [
    "data_folder = \"../input/g-research-crypto-forecasting/\"\n",
    "data_folder = \"\"\n",
    "df_train = pd.read_csv(data_folder + 'train.csv')\n",
    "df_asset_details = pd.read_csv(data_folder + 'asset_details.csv').sort_values(\"Asset_ID\")"
   ]
  },
  {
   "cell_type": "code",
   "execution_count": 4,
   "metadata": {},
   "outputs": [
    {
     "data": {
      "text/html": [
       "<div>\n",
       "<style scoped>\n",
       "    .dataframe tbody tr th:only-of-type {\n",
       "        vertical-align: middle;\n",
       "    }\n",
       "\n",
       "    .dataframe tbody tr th {\n",
       "        vertical-align: top;\n",
       "    }\n",
       "\n",
       "    .dataframe thead th {\n",
       "        text-align: right;\n",
       "    }\n",
       "</style>\n",
       "<table border=\"1\" class=\"dataframe\">\n",
       "  <thead>\n",
       "    <tr style=\"text-align: right;\">\n",
       "      <th></th>\n",
       "      <th>timestamp</th>\n",
       "      <th>Asset_ID</th>\n",
       "      <th>Count</th>\n",
       "      <th>Open</th>\n",
       "      <th>High</th>\n",
       "      <th>Low</th>\n",
       "      <th>Close</th>\n",
       "      <th>Volume</th>\n",
       "      <th>VWAP</th>\n",
       "      <th>Target</th>\n",
       "    </tr>\n",
       "  </thead>\n",
       "  <tbody>\n",
       "    <tr>\n",
       "      <th>0</th>\n",
       "      <td>1514764860</td>\n",
       "      <td>2</td>\n",
       "      <td>40.0</td>\n",
       "      <td>2376.580000</td>\n",
       "      <td>2399.500000</td>\n",
       "      <td>2357.140000</td>\n",
       "      <td>2374.590000</td>\n",
       "      <td>1.923301e+01</td>\n",
       "      <td>2373.116392</td>\n",
       "      <td>-0.004218</td>\n",
       "    </tr>\n",
       "    <tr>\n",
       "      <th>1</th>\n",
       "      <td>1514764860</td>\n",
       "      <td>0</td>\n",
       "      <td>5.0</td>\n",
       "      <td>8.530000</td>\n",
       "      <td>8.530000</td>\n",
       "      <td>8.530000</td>\n",
       "      <td>8.530000</td>\n",
       "      <td>7.838000e+01</td>\n",
       "      <td>8.530000</td>\n",
       "      <td>-0.014399</td>\n",
       "    </tr>\n",
       "    <tr>\n",
       "      <th>2</th>\n",
       "      <td>1514764860</td>\n",
       "      <td>1</td>\n",
       "      <td>229.0</td>\n",
       "      <td>13835.194000</td>\n",
       "      <td>14013.800000</td>\n",
       "      <td>13666.110000</td>\n",
       "      <td>13850.176000</td>\n",
       "      <td>3.155006e+01</td>\n",
       "      <td>13827.062093</td>\n",
       "      <td>-0.014643</td>\n",
       "    </tr>\n",
       "    <tr>\n",
       "      <th>3</th>\n",
       "      <td>1514764860</td>\n",
       "      <td>5</td>\n",
       "      <td>32.0</td>\n",
       "      <td>7.659600</td>\n",
       "      <td>7.659600</td>\n",
       "      <td>7.656700</td>\n",
       "      <td>7.657600</td>\n",
       "      <td>6.626713e+03</td>\n",
       "      <td>7.657713</td>\n",
       "      <td>-0.013922</td>\n",
       "    </tr>\n",
       "    <tr>\n",
       "      <th>4</th>\n",
       "      <td>1514764860</td>\n",
       "      <td>7</td>\n",
       "      <td>5.0</td>\n",
       "      <td>25.920000</td>\n",
       "      <td>25.920000</td>\n",
       "      <td>25.874000</td>\n",
       "      <td>25.877000</td>\n",
       "      <td>1.210873e+02</td>\n",
       "      <td>25.891363</td>\n",
       "      <td>-0.008264</td>\n",
       "    </tr>\n",
       "    <tr>\n",
       "      <th>...</th>\n",
       "      <td>...</td>\n",
       "      <td>...</td>\n",
       "      <td>...</td>\n",
       "      <td>...</td>\n",
       "      <td>...</td>\n",
       "      <td>...</td>\n",
       "      <td>...</td>\n",
       "      <td>...</td>\n",
       "      <td>...</td>\n",
       "      <td>...</td>\n",
       "    </tr>\n",
       "    <tr>\n",
       "      <th>24236801</th>\n",
       "      <td>1632182400</td>\n",
       "      <td>9</td>\n",
       "      <td>775.0</td>\n",
       "      <td>157.181571</td>\n",
       "      <td>157.250000</td>\n",
       "      <td>156.700000</td>\n",
       "      <td>156.943857</td>\n",
       "      <td>4.663725e+03</td>\n",
       "      <td>156.994319</td>\n",
       "      <td>NaN</td>\n",
       "    </tr>\n",
       "    <tr>\n",
       "      <th>24236802</th>\n",
       "      <td>1632182400</td>\n",
       "      <td>10</td>\n",
       "      <td>34.0</td>\n",
       "      <td>2437.065067</td>\n",
       "      <td>2438.000000</td>\n",
       "      <td>2430.226900</td>\n",
       "      <td>2432.907467</td>\n",
       "      <td>3.975460e+00</td>\n",
       "      <td>2434.818747</td>\n",
       "      <td>NaN</td>\n",
       "    </tr>\n",
       "    <tr>\n",
       "      <th>24236803</th>\n",
       "      <td>1632182400</td>\n",
       "      <td>13</td>\n",
       "      <td>380.0</td>\n",
       "      <td>0.091390</td>\n",
       "      <td>0.091527</td>\n",
       "      <td>0.091260</td>\n",
       "      <td>0.091349</td>\n",
       "      <td>2.193732e+06</td>\n",
       "      <td>0.091388</td>\n",
       "      <td>NaN</td>\n",
       "    </tr>\n",
       "    <tr>\n",
       "      <th>24236804</th>\n",
       "      <td>1632182400</td>\n",
       "      <td>12</td>\n",
       "      <td>177.0</td>\n",
       "      <td>0.282168</td>\n",
       "      <td>0.282438</td>\n",
       "      <td>0.281842</td>\n",
       "      <td>0.282051</td>\n",
       "      <td>1.828508e+05</td>\n",
       "      <td>0.282134</td>\n",
       "      <td>NaN</td>\n",
       "    </tr>\n",
       "    <tr>\n",
       "      <th>24236805</th>\n",
       "      <td>1632182400</td>\n",
       "      <td>11</td>\n",
       "      <td>48.0</td>\n",
       "      <td>232.695000</td>\n",
       "      <td>232.800000</td>\n",
       "      <td>232.240000</td>\n",
       "      <td>232.275000</td>\n",
       "      <td>1.035123e+02</td>\n",
       "      <td>232.569697</td>\n",
       "      <td>NaN</td>\n",
       "    </tr>\n",
       "  </tbody>\n",
       "</table>\n",
       "<p>24236806 rows × 10 columns</p>\n",
       "</div>"
      ],
      "text/plain": [
       "           timestamp  Asset_ID  Count          Open          High  \\\n",
       "0         1514764860         2   40.0   2376.580000   2399.500000   \n",
       "1         1514764860         0    5.0      8.530000      8.530000   \n",
       "2         1514764860         1  229.0  13835.194000  14013.800000   \n",
       "3         1514764860         5   32.0      7.659600      7.659600   \n",
       "4         1514764860         7    5.0     25.920000     25.920000   \n",
       "...              ...       ...    ...           ...           ...   \n",
       "24236801  1632182400         9  775.0    157.181571    157.250000   \n",
       "24236802  1632182400        10   34.0   2437.065067   2438.000000   \n",
       "24236803  1632182400        13  380.0      0.091390      0.091527   \n",
       "24236804  1632182400        12  177.0      0.282168      0.282438   \n",
       "24236805  1632182400        11   48.0    232.695000    232.800000   \n",
       "\n",
       "                   Low         Close        Volume          VWAP    Target  \n",
       "0          2357.140000   2374.590000  1.923301e+01   2373.116392 -0.004218  \n",
       "1             8.530000      8.530000  7.838000e+01      8.530000 -0.014399  \n",
       "2         13666.110000  13850.176000  3.155006e+01  13827.062093 -0.014643  \n",
       "3             7.656700      7.657600  6.626713e+03      7.657713 -0.013922  \n",
       "4            25.874000     25.877000  1.210873e+02     25.891363 -0.008264  \n",
       "...                ...           ...           ...           ...       ...  \n",
       "24236801    156.700000    156.943857  4.663725e+03    156.994319       NaN  \n",
       "24236802   2430.226900   2432.907467  3.975460e+00   2434.818747       NaN  \n",
       "24236803      0.091260      0.091349  2.193732e+06      0.091388       NaN  \n",
       "24236804      0.281842      0.282051  1.828508e+05      0.282134       NaN  \n",
       "24236805    232.240000    232.275000  1.035123e+02    232.569697       NaN  \n",
       "\n",
       "[24236806 rows x 10 columns]"
      ]
     },
     "execution_count": 4,
     "metadata": {},
     "output_type": "execute_result"
    }
   ],
   "source": [
    "df_train"
   ]
  },
  {
   "cell_type": "markdown",
   "metadata": {},
   "source": [
    "## Caractéristiques"
   ]
  },
  {
   "cell_type": "markdown",
   "metadata": {},
   "source": [
    "Nous pouvons voir que chaque ligne contient les données de trading d'un actif, à une minute donnée, décrites comme suit :\n",
    "* `timestamp` : tous les **horodatage** sont renvoyés sous forme d'horodatages Unix secondes (le nombre de secondes écoulées depuis 1970-01-01 00:00:00.000 UTC). \n",
    "Les horodatages de cet ensemble de données sont des multiples de 60, indiquant des données **minute par minute**.\n",
    "* `Asset_ID` : l'**identifiant** de l'actif correspondant à l'une des crypto-monnaies.\n",
    "Le mappage de Asset_ID à l'actif cryptographique est contenu dans `asset_details.csv`.\n",
    "* `Count` : nombre total de **transactions** dans l'intervalle de temps (dernière minute).\n",
    "* `Open` : cours d'**ouverture** de l'intervalle de temps (en USD).\n",
    "* `Haut` : prix le plus **élevé** atteint au cours de l'intervalle de temps (en USD).\n",
    "* `Bas` : prix le plus **bas** atteint pendant l'intervalle de temps (en USD).\n",
    "* `Clôture` : cours de **clôture** de l'intervalle de temps (en USD).\n",
    "* `Volume` : **quantité d'actif** achetée ou vendue, affichée dans la devise de base USD.\n",
    "* `VWAP` : Le **prix moyen** de l'actif sur l'intervalle de temps, pondéré par le volume. Le VWAP est une forme agrégée de données commerciales.\n",
    "* `Cible` : cible de **prédiction** pour l'actif sur un horizon de **15 minutes**.\n",
    "\n",
    "La seconde base de données contient les informations sur les différents actifs :\n",
    "* le mappage `Asset_ID` vers les noms des actifs `Asset_Name`\n",
    "* le poids de `Weight` chaque actif utilisé pour peser leur importance relative dans la métrique d'évaluation."
   ]
  },
  {
   "cell_type": "code",
   "execution_count": 5,
   "metadata": {},
   "outputs": [
    {
     "data": {
      "text/html": [
       "<div>\n",
       "<style scoped>\n",
       "    .dataframe tbody tr th:only-of-type {\n",
       "        vertical-align: middle;\n",
       "    }\n",
       "\n",
       "    .dataframe tbody tr th {\n",
       "        vertical-align: top;\n",
       "    }\n",
       "\n",
       "    .dataframe thead th {\n",
       "        text-align: right;\n",
       "    }\n",
       "</style>\n",
       "<table border=\"1\" class=\"dataframe\">\n",
       "  <thead>\n",
       "    <tr style=\"text-align: right;\">\n",
       "      <th></th>\n",
       "      <th>Asset_ID</th>\n",
       "      <th>Weight</th>\n",
       "      <th>Asset_Name</th>\n",
       "    </tr>\n",
       "  </thead>\n",
       "  <tbody>\n",
       "    <tr>\n",
       "      <th>1</th>\n",
       "      <td>0</td>\n",
       "      <td>4.304065</td>\n",
       "      <td>Binance Coin</td>\n",
       "    </tr>\n",
       "    <tr>\n",
       "      <th>2</th>\n",
       "      <td>1</td>\n",
       "      <td>6.779922</td>\n",
       "      <td>Bitcoin</td>\n",
       "    </tr>\n",
       "    <tr>\n",
       "      <th>0</th>\n",
       "      <td>2</td>\n",
       "      <td>2.397895</td>\n",
       "      <td>Bitcoin Cash</td>\n",
       "    </tr>\n",
       "    <tr>\n",
       "      <th>10</th>\n",
       "      <td>3</td>\n",
       "      <td>4.406719</td>\n",
       "      <td>Cardano</td>\n",
       "    </tr>\n",
       "    <tr>\n",
       "      <th>13</th>\n",
       "      <td>4</td>\n",
       "      <td>3.555348</td>\n",
       "      <td>Dogecoin</td>\n",
       "    </tr>\n",
       "    <tr>\n",
       "      <th>3</th>\n",
       "      <td>5</td>\n",
       "      <td>1.386294</td>\n",
       "      <td>EOS.IO</td>\n",
       "    </tr>\n",
       "    <tr>\n",
       "      <th>5</th>\n",
       "      <td>6</td>\n",
       "      <td>5.894403</td>\n",
       "      <td>Ethereum</td>\n",
       "    </tr>\n",
       "    <tr>\n",
       "      <th>4</th>\n",
       "      <td>7</td>\n",
       "      <td>2.079442</td>\n",
       "      <td>Ethereum Classic</td>\n",
       "    </tr>\n",
       "    <tr>\n",
       "      <th>11</th>\n",
       "      <td>8</td>\n",
       "      <td>1.098612</td>\n",
       "      <td>IOTA</td>\n",
       "    </tr>\n",
       "    <tr>\n",
       "      <th>6</th>\n",
       "      <td>9</td>\n",
       "      <td>2.397895</td>\n",
       "      <td>Litecoin</td>\n",
       "    </tr>\n",
       "    <tr>\n",
       "      <th>12</th>\n",
       "      <td>10</td>\n",
       "      <td>1.098612</td>\n",
       "      <td>Maker</td>\n",
       "    </tr>\n",
       "    <tr>\n",
       "      <th>7</th>\n",
       "      <td>11</td>\n",
       "      <td>1.609438</td>\n",
       "      <td>Monero</td>\n",
       "    </tr>\n",
       "    <tr>\n",
       "      <th>9</th>\n",
       "      <td>12</td>\n",
       "      <td>2.079442</td>\n",
       "      <td>Stellar</td>\n",
       "    </tr>\n",
       "    <tr>\n",
       "      <th>8</th>\n",
       "      <td>13</td>\n",
       "      <td>1.791759</td>\n",
       "      <td>TRON</td>\n",
       "    </tr>\n",
       "  </tbody>\n",
       "</table>\n",
       "</div>"
      ],
      "text/plain": [
       "    Asset_ID    Weight        Asset_Name\n",
       "1          0  4.304065      Binance Coin\n",
       "2          1  6.779922           Bitcoin\n",
       "0          2  2.397895      Bitcoin Cash\n",
       "10         3  4.406719           Cardano\n",
       "13         4  3.555348          Dogecoin\n",
       "3          5  1.386294            EOS.IO\n",
       "5          6  5.894403          Ethereum\n",
       "4          7  2.079442  Ethereum Classic\n",
       "11         8  1.098612              IOTA\n",
       "6          9  2.397895          Litecoin\n",
       "12        10  1.098612             Maker\n",
       "7         11  1.609438            Monero\n",
       "9         12  2.079442           Stellar\n",
       "8         13  1.791759              TRON"
      ]
     },
     "execution_count": 5,
     "metadata": {},
     "output_type": "execute_result"
    }
   ],
   "source": [
    "df_asset_details"
   ]
  },
  {
   "cell_type": "markdown",
   "metadata": {},
   "source": [
    "# Pré-traitements\n",
    "## Valeurs manquantes \n",
    "Vérifions la portée maximale et s'il ne manque pas des minutes pour les différentes crypto-monnaies :"
   ]
  },
  {
   "cell_type": "code",
   "execution_count": 6,
   "metadata": {},
   "outputs": [
    {
     "name": "stdout",
     "output_type": "stream",
     "text": [
      "Portée maximale : 1956960 minutes / 3.72 ans\n"
     ]
    }
   ],
   "source": [
    "t_range = (df_train['timestamp'].max() - df_train['timestamp'].min()) // 60 +1\n",
    "print(f\"Portée maximale : {t_range} minutes / {t_range/60/24/365.25:.2f} ans\")"
   ]
  },
  {
   "cell_type": "markdown",
   "metadata": {},
   "source": [
    "Les données d'actifs manquantes, pour une minute donnée, ne sont pas représentées par des NaN, mais plutôt par l'absence de ces lignes. \n",
    "Nous pouvons vérifier la différence d'horodatage entre les lignes consécutives pour voir s'il manque des données."
   ]
  },
  {
   "cell_type": "code",
   "execution_count": 7,
   "metadata": {},
   "outputs": [
    {
     "data": {
      "text/html": [
       "<div>\n",
       "<style scoped>\n",
       "    .dataframe tbody tr th:only-of-type {\n",
       "        vertical-align: middle;\n",
       "    }\n",
       "\n",
       "    .dataframe tbody tr th {\n",
       "        vertical-align: top;\n",
       "    }\n",
       "\n",
       "    .dataframe thead th {\n",
       "        text-align: right;\n",
       "    }\n",
       "</style>\n",
       "<table border=\"1\" class=\"dataframe\">\n",
       "  <thead>\n",
       "    <tr style=\"text-align: right;\">\n",
       "      <th></th>\n",
       "      <th>0</th>\n",
       "      <th>1</th>\n",
       "      <th>2</th>\n",
       "      <th>3</th>\n",
       "      <th>4</th>\n",
       "      <th>5</th>\n",
       "      <th>6</th>\n",
       "      <th>7</th>\n",
       "      <th>8</th>\n",
       "      <th>9</th>\n",
       "      <th>10</th>\n",
       "      <th>11</th>\n",
       "      <th>12</th>\n",
       "      <th>13</th>\n",
       "    </tr>\n",
       "    <tr>\n",
       "      <th>dt(min)</th>\n",
       "      <th></th>\n",
       "      <th></th>\n",
       "      <th></th>\n",
       "      <th></th>\n",
       "      <th></th>\n",
       "      <th></th>\n",
       "      <th></th>\n",
       "      <th></th>\n",
       "      <th></th>\n",
       "      <th></th>\n",
       "      <th></th>\n",
       "      <th></th>\n",
       "      <th></th>\n",
       "      <th></th>\n",
       "    </tr>\n",
       "  </thead>\n",
       "  <tbody>\n",
       "    <tr>\n",
       "      <th>total</th>\n",
       "      <td>14341.0</td>\n",
       "      <td>678.0</td>\n",
       "      <td>3423.0</td>\n",
       "      <td>11903.0</td>\n",
       "      <td>128181.0</td>\n",
       "      <td>1820.0</td>\n",
       "      <td>760.0</td>\n",
       "      <td>5833.0</td>\n",
       "      <td>180083.0</td>\n",
       "      <td>930.0</td>\n",
       "      <td>1099783.0</td>\n",
       "      <td>255699.0</td>\n",
       "      <td>110539.0</td>\n",
       "      <td>29264.0</td>\n",
       "    </tr>\n",
       "    <tr>\n",
       "      <th>2</th>\n",
       "      <td>5774.0</td>\n",
       "      <td>78.0</td>\n",
       "      <td>2176.0</td>\n",
       "      <td>7848.0</td>\n",
       "      <td>51442.0</td>\n",
       "      <td>1005.0</td>\n",
       "      <td>100.0</td>\n",
       "      <td>4229.0</td>\n",
       "      <td>70201.0</td>\n",
       "      <td>199.0</td>\n",
       "      <td>10868.0</td>\n",
       "      <td>80605.0</td>\n",
       "      <td>18156.0</td>\n",
       "      <td>6204.0</td>\n",
       "    </tr>\n",
       "    <tr>\n",
       "      <th>3</th>\n",
       "      <td>510.0</td>\n",
       "      <td>12.0</td>\n",
       "      <td>196.0</td>\n",
       "      <td>1090.0</td>\n",
       "      <td>13708.0</td>\n",
       "      <td>108.0</td>\n",
       "      <td>23.0</td>\n",
       "      <td>319.0</td>\n",
       "      <td>21250.0</td>\n",
       "      <td>33.0</td>\n",
       "      <td>3764.0</td>\n",
       "      <td>25266.0</td>\n",
       "      <td>6734.0</td>\n",
       "      <td>2576.0</td>\n",
       "    </tr>\n",
       "    <tr>\n",
       "      <th>4</th>\n",
       "      <td>117.0</td>\n",
       "      <td>11.0</td>\n",
       "      <td>45.0</td>\n",
       "      <td>270.0</td>\n",
       "      <td>5575.0</td>\n",
       "      <td>36.0</td>\n",
       "      <td>3.0</td>\n",
       "      <td>75.0</td>\n",
       "      <td>8405.0</td>\n",
       "      <td>14.0</td>\n",
       "      <td>1595.0</td>\n",
       "      <td>10953.0</td>\n",
       "      <td>3830.0</td>\n",
       "      <td>1301.0</td>\n",
       "    </tr>\n",
       "    <tr>\n",
       "      <th>5</th>\n",
       "      <td>50.0</td>\n",
       "      <td>3.0</td>\n",
       "      <td>29.0</td>\n",
       "      <td>79.0</td>\n",
       "      <td>2627.0</td>\n",
       "      <td>10.0</td>\n",
       "      <td>5.0</td>\n",
       "      <td>27.0</td>\n",
       "      <td>3815.0</td>\n",
       "      <td>8.0</td>\n",
       "      <td>804.0</td>\n",
       "      <td>5691.0</td>\n",
       "      <td>2805.0</td>\n",
       "      <td>721.0</td>\n",
       "    </tr>\n",
       "    <tr>\n",
       "      <th>6</th>\n",
       "      <td>25.0</td>\n",
       "      <td>4.0</td>\n",
       "      <td>18.0</td>\n",
       "      <td>28.0</td>\n",
       "      <td>1411.0</td>\n",
       "      <td>6.0</td>\n",
       "      <td>2.0</td>\n",
       "      <td>12.0</td>\n",
       "      <td>1802.0</td>\n",
       "      <td>5.0</td>\n",
       "      <td>573.0</td>\n",
       "      <td>3209.0</td>\n",
       "      <td>1573.0</td>\n",
       "      <td>419.0</td>\n",
       "    </tr>\n",
       "    <tr>\n",
       "      <th>7</th>\n",
       "      <td>18.0</td>\n",
       "      <td>9.0</td>\n",
       "      <td>6.0</td>\n",
       "      <td>11.0</td>\n",
       "      <td>742.0</td>\n",
       "      <td>4.0</td>\n",
       "      <td>1.0</td>\n",
       "      <td>13.0</td>\n",
       "      <td>925.0</td>\n",
       "      <td>5.0</td>\n",
       "      <td>465.0</td>\n",
       "      <td>1916.0</td>\n",
       "      <td>1056.0</td>\n",
       "      <td>292.0</td>\n",
       "    </tr>\n",
       "    <tr>\n",
       "      <th>8</th>\n",
       "      <td>13.0</td>\n",
       "      <td>3.0</td>\n",
       "      <td>6.0</td>\n",
       "      <td>7.0</td>\n",
       "      <td>434.0</td>\n",
       "      <td>3.0</td>\n",
       "      <td>2.0</td>\n",
       "      <td>8.0</td>\n",
       "      <td>544.0</td>\n",
       "      <td>3.0</td>\n",
       "      <td>374.0</td>\n",
       "      <td>1201.0</td>\n",
       "      <td>798.0</td>\n",
       "      <td>207.0</td>\n",
       "    </tr>\n",
       "    <tr>\n",
       "      <th>9</th>\n",
       "      <td>6.0</td>\n",
       "      <td>2.0</td>\n",
       "      <td>5.0</td>\n",
       "      <td>3.0</td>\n",
       "      <td>255.0</td>\n",
       "      <td>3.0</td>\n",
       "      <td>4.0</td>\n",
       "      <td>5.0</td>\n",
       "      <td>321.0</td>\n",
       "      <td>8.0</td>\n",
       "      <td>292.0</td>\n",
       "      <td>881.0</td>\n",
       "      <td>571.0</td>\n",
       "      <td>133.0</td>\n",
       "    </tr>\n",
       "    <tr>\n",
       "      <th>10</th>\n",
       "      <td>13.0</td>\n",
       "      <td>4.0</td>\n",
       "      <td>4.0</td>\n",
       "      <td>5.0</td>\n",
       "      <td>147.0</td>\n",
       "      <td>2.0</td>\n",
       "      <td>2.0</td>\n",
       "      <td>2.0</td>\n",
       "      <td>156.0</td>\n",
       "      <td>3.0</td>\n",
       "      <td>254.0</td>\n",
       "      <td>536.0</td>\n",
       "      <td>449.0</td>\n",
       "      <td>84.0</td>\n",
       "    </tr>\n",
       "  </tbody>\n",
       "</table>\n",
       "</div>"
      ],
      "text/plain": [
       "              0      1       2        3         4       5      6       7   \\\n",
       "dt(min)                                                                     \n",
       "total    14341.0  678.0  3423.0  11903.0  128181.0  1820.0  760.0  5833.0   \n",
       "2         5774.0   78.0  2176.0   7848.0   51442.0  1005.0  100.0  4229.0   \n",
       "3          510.0   12.0   196.0   1090.0   13708.0   108.0   23.0   319.0   \n",
       "4          117.0   11.0    45.0    270.0    5575.0    36.0    3.0    75.0   \n",
       "5           50.0    3.0    29.0     79.0    2627.0    10.0    5.0    27.0   \n",
       "6           25.0    4.0    18.0     28.0    1411.0     6.0    2.0    12.0   \n",
       "7           18.0    9.0     6.0     11.0     742.0     4.0    1.0    13.0   \n",
       "8           13.0    3.0     6.0      7.0     434.0     3.0    2.0     8.0   \n",
       "9            6.0    2.0     5.0      3.0     255.0     3.0    4.0     5.0   \n",
       "10          13.0    4.0     4.0      5.0     147.0     2.0    2.0     2.0   \n",
       "\n",
       "               8      9          10        11        12       13  \n",
       "dt(min)                                                           \n",
       "total    180083.0  930.0  1099783.0  255699.0  110539.0  29264.0  \n",
       "2         70201.0  199.0    10868.0   80605.0   18156.0   6204.0  \n",
       "3         21250.0   33.0     3764.0   25266.0    6734.0   2576.0  \n",
       "4          8405.0   14.0     1595.0   10953.0    3830.0   1301.0  \n",
       "5          3815.0    8.0      804.0    5691.0    2805.0    721.0  \n",
       "6          1802.0    5.0      573.0    3209.0    1573.0    419.0  \n",
       "7           925.0    5.0      465.0    1916.0    1056.0    292.0  \n",
       "8           544.0    3.0      374.0    1201.0     798.0    207.0  \n",
       "9           321.0    8.0      292.0     881.0     571.0    133.0  \n",
       "10          156.0    3.0      254.0     536.0     449.0     84.0  "
      ]
     },
     "execution_count": 7,
     "metadata": {},
     "output_type": "execute_result"
    }
   ],
   "source": [
    "mtmt = missing_timestamps(df_train)\n",
    "mtmt.head(10)"
   ]
  },
  {
   "cell_type": "code",
   "execution_count": 8,
   "metadata": {},
   "outputs": [
    {
     "name": "stdout",
     "output_type": "stream",
     "text": [
      "ID  LEN      #MISSING  PERCENT  NOM\n",
      " 0  1942619     14341    0.73%  Binance Coin\n",
      " 1  1956282       678    0.03%  Bitcoin\n",
      " 2  1953537      3423    0.17%  Bitcoin Cash\n",
      " 3  1791867     11903    0.61%  Cardano\n",
      " 4  1156866    128181    6.55%  Dogecoin\n",
      " 5  1955140      1820    0.09%  EOS.IO\n",
      " 6  1956200       760    0.04%  Ethereum\n",
      " 7  1951127      5833    0.30%  Ethereum Classic\n",
      " 8  1592071    180083    9.20%  IOTA\n",
      " 9  1956030       930    0.05%  Litecoin\n",
      "10   670497   1099783   56.20%  Maker\n",
      "11  1701261    255699   13.07%  Monero\n",
      "12  1778749    110539    5.65%  Stellar\n",
      "13  1874560     29264    1.50%  TRON\n"
     ]
    }
   ],
   "source": [
    "print(f\"{'ID':2}  {'LEN':7}  {'#MISSING':8}  {'PERCENT':6}  {'NOM'}\")\n",
    "for i in sorted(df_train[\"Asset_ID\"].unique()):\n",
    "    tmp = df_train[df_train[\"Asset_ID\"]==i].set_index(\"timestamp\")\n",
    "    L = len(tmp)\n",
    "    missing = int(mtmt.loc['total', i])\n",
    "    name = df_asset_details[df_asset_details[\"Asset_ID\"]==i][\"Asset_Name\"].values[0]\n",
    "    print(f\"{i:2}  {L:7}  {missing:8}  {100*missing/t_range:6.2f}%  {name}\")"
   ]
  },
  {
   "cell_type": "markdown",
   "metadata": {},
   "source": [
    "Il manque un bon nombre de données pour certaines crypto-monnaies notamment **Stellar** (6%), **Dogecoin** (7%), **IOTA** (9%), **Monero** (13%) et surtout **Maker** avec plus de **56%** de données manquantes.  \n",
    "Pour travailler avec la plupart des modèles de séries chronologiques, nous devons prétraiter nos données dans un format sans intervalle de temps. \n",
    "Pour combler les lacunes, nous pouvons utiliser la méthode [`.reindex()`](https://pandas.pydata.org/docs/reference/api/pandas.DataFrame.reindex.html) pour le remplissage avancé, en comblant les lacunes avec la valeur valide suivante (`method='backfill'`) puisque c'est les données les plus récentes que nous possédons."
   ]
  },
  {
   "cell_type": "code",
   "execution_count": 9,
   "metadata": {},
   "outputs": [],
   "source": [
    "IDs = df_train['Asset_ID'].unique()\n",
    "tmin, tmax = df_train['timestamp'].min(), df_train['timestamp'].max()\n",
    "df_train = df_train.set_index('timestamp')\n",
    "df = pd.DataFrame()\n",
    "for i in IDs:\n",
    "    sub_reindexed = df_train.loc[df_train['Asset_ID'] == i].reindex(range(tmin, tmax+60, 60), method='nearest')\n",
    "    df = pd.concat([df, sub_reindexed], axis=0)"
   ]
  },
  {
   "cell_type": "code",
   "execution_count": 10,
   "metadata": {},
   "outputs": [
    {
     "name": "stdout",
     "output_type": "stream",
     "text": [
      "Taille initiale :  24236806\n",
      "    + manquants :  26080043\n",
      "Taille cible    :  27397440\n",
      "Taille finale   :  27397440\n"
     ]
    }
   ],
   "source": [
    "print(\"Taille initiale : \", len(df_train))\n",
    "print(\"    + manquants : \", len(df_train) + int(mtmt.loc['total'].sum()))\n",
    "print(\"Taille cible    : \", t_range*len(IDs))\n",
    "print(\"Taille finale   : \", len(df))\n",
    "#TODO: Le nombre d'éléments manquant a été sous-estimé : outil à revoir\n",
    "del df_train"
   ]
  },
  {
   "cell_type": "code",
   "execution_count": 12,
   "metadata": {},
   "outputs": [
    {
     "data": {
      "text/plain": [
       "VWAP           18\n",
       "Target    2603775\n",
       "dtype: int64"
      ]
     },
     "execution_count": 12,
     "metadata": {},
     "output_type": "execute_result"
    }
   ],
   "source": [
    "tmp = df.isna().sum(0)\n",
    "tmp[tmp !=0]"
   ]
  },
  {
   "cell_type": "markdown",
   "metadata": {},
   "source": [
    "\n",
    "Nous pouvons également voir qu'il y a beaucoup de valeurs manquantes pour la colonnes `Target` et quelques-unes pour la colonne `VWAP`. "
   ]
  },
  {
   "cell_type": "markdown",
   "metadata": {},
   "source": [
    "# Visualisation\n",
    "## Graphiques en chandeliers\n",
    "Le format des données de trading est une forme agrégée de données de marché, y compris pour l'ouverture, le haut, le bas et la clôture. \n",
    "Nous pouvons visualiser ces données à travers le graphique à barres en chandelier couramment utilisé, qui permet aux traders d'effectuer une analyse technique sur les valeurs intrajournalières. \n",
    "* La **longueur du corps de la barre** représente la fourchette de prix **entre l'ouverture et la clôture** de la négociation de ce jour. \n",
    "Lorsque la barre est rouge, cela signifie que la clôture était inférieure à l'ouverture, et verte dans le cas contraire. \n",
    "Ceux-ci sont également appelés chandeliers haussiers et baissiers. \n",
    "* Les **mèches au-dessus et au-dessous** des barres indiquent les **prix haut et bas** du trading de cet intervalle."
   ]
  },
  {
   "cell_type": "code",
   "execution_count": 57,
   "metadata": {},
   "outputs": [
    {
     "data": {
      "application/vnd.plotly.v1+json": {
       "config": {
        "plotlyServerURL": "https://plot.ly"
       },
       "data": [
        {
         "close": [
          2.059971,
          2.0606568333333333,
          2.0563873333333333,
          2.062458166666667,
          2.0597065,
          2.061796,
          2.0595775,
          2.0629015,
          2.0625656666666665,
          2.0651735,
          2.061245833333333,
          2.0640894000000003,
          2.0657938333333337,
          2.067147333333333,
          2.0663705,
          2.0747561666666665,
          2.0762065,
          2.081496833333333,
          2.082215,
          2.0959283333333336,
          2.094456833333333,
          2.0881412,
          2.0779465,
          2.088303333333333,
          2.0887345,
          2.095845166666667,
          2.0973566666666668,
          2.099673333333333,
          2.099331166666667,
          2.1032485000000003,
          2.1012231666666668,
          2.1035625,
          2.0981530000000004,
          2.097224,
          2.0935136666666665,
          2.0913658333333336,
          2.0941515,
          2.103314333333333,
          2.1074118333333334,
          2.1056518333333334,
          2.1018958333333333,
          2.1034305,
          2.1041168333333333,
          2.103225166666667,
          2.103726833333333,
          2.0998373333333333,
          2.1038878333333333,
          2.105376,
          2.104858,
          2.104284,
          2.102103666666667,
          2.1028093999999995,
          2.1024420000000004,
          2.102423,
          2.1005844,
          2.0969182,
          2.0976188333333337,
          2.097735166666667,
          2.1007438,
          2.1029005,
          2.1030686666666667,
          2.1034545,
          2.1046216,
          2.096201833333333,
          2.105554166666667,
          2.116366166666667,
          2.124388666666667,
          2.114062166666667,
          2.1202871666666665,
          2.121542,
          2.1175782,
          2.1099526666666666,
          2.1033381666666666,
          2.1037790000000003,
          2.1039708,
          2.096585666666667,
          2.0954843333333333,
          2.0922211666666666,
          2.093096833333333,
          2.1040425,
          2.1065675,
          2.104855666666667,
          2.110197166666667,
          2.1126615,
          2.1061606666666663,
          2.109100833333333,
          2.1132611666666663,
          2.1176766666666667,
          2.1203715,
          2.1290395,
          2.129464666666667,
          2.1253925,
          2.1224351666666665,
          2.124000333333333,
          2.1296788333333336,
          2.132746833333333,
          2.138531,
          2.1375625,
          2.1322393333333336,
          2.1393318333333333,
          2.1340378333333336,
          2.138071833333333,
          2.13934,
          2.1399085,
          2.1411016666666662,
          2.1409743333333333,
          2.1385925,
          2.136925333333333,
          2.138715166666667,
          2.1415566666666668,
          2.142384333333333,
          2.1423188333333334,
          2.143662,
          2.1466583333333333,
          2.1453755000000005,
          2.142249,
          2.1432795,
          2.1418885,
          2.1374653333333336,
          2.1409208000000004,
          2.138587166666667,
          2.136167,
          2.133016,
          2.1281025,
          2.125029833333333,
          2.124556666666667,
          2.1219976666666667,
          2.1194791666666664,
          2.1137103333333336,
          2.1074855,
          2.1062171666666667,
          2.106048,
          2.1058216666666665,
          2.097675833333333,
          2.1027121666666666,
          2.107485666666667,
          2.110373333333333,
          2.11018,
          2.109329666666666,
          2.111232166666667,
          2.1114875000000004,
          2.120866166666667,
          2.1309751666666665,
          2.125998833333333,
          2.1075176666666664,
          2.105397833333333,
          2.1069115000000003,
          2.0997198333333342,
          2.0904001666666665,
          2.087755666666667,
          2.0846641666666668,
          2.080805833333333,
          2.076938166666667,
          2.092073833333333,
          2.0852063333333337,
          2.092683,
          2.086358333333333,
          2.0868721666666668,
          2.081979666666667,
          2.0779471666666667,
          2.0725451666666665,
          2.074212333333333,
          2.0679046666666667,
          2.0660640000000003,
          2.063177,
          2.0657498333333333,
          2.068403833333333,
          2.063362,
          2.0595935,
          2.059066333333333,
          2.059693666666667,
          2.057413166666666,
          2.0657855,
          2.070019166666667,
          2.07194,
          2.077379,
          2.0740544,
          2.073853,
          2.0656845,
          2.066293166666666,
          2.0726805,
          2.0705315,
          2.0690674,
          2.063073833333333,
          2.0647658333333334,
          2.074743166666667,
          2.0742958333333337,
          2.06829,
          2.0788015000000004,
          2.0837923333333337,
          2.0824565,
          2.0849833333333336,
          2.0839075,
          2.0851713333333333,
          2.083547333333333,
          2.067367166666666,
          2.0661056666666666,
          2.0649006666666665,
          2.0803366666666663,
          2.0792685000000004
         ],
         "high": [
          2.0678,
          2.0649,
          2.0615,
          2.0669,
          2.0686,
          2.0636,
          2.0642,
          2.0649,
          2.0654,
          2.0696,
          2.0667,
          2.0663,
          2.0685,
          2.0697,
          2.0702,
          2.0768,
          2.0806,
          2.0834,
          2.0872,
          2.0988,
          2.0983,
          2.0949,
          2.0902,
          2.09,
          2.093,
          2.0980000000000003,
          2.0989,
          2.1043,
          2.1034,
          2.1054,
          2.1054,
          2.1063,
          2.1037,
          2.1003,
          2.0973,
          2.0943,
          2.0961,
          2.1061,
          2.1101,
          2.1098,
          2.105678,
          2.1052,
          2.1059,
          2.1048240000000003,
          2.1049,
          2.1051,
          2.1059,
          2.1065,
          2.106,
          2.10554,
          2.105163,
          2.103688,
          2.104,
          2.1037,
          2.1037,
          2.101283,
          2.0989,
          2.099,
          2.1027,
          2.1044,
          2.1041,
          2.10387,
          2.106,
          2.105354,
          2.1072,
          2.1184,
          2.125,
          2.1261,
          2.12107,
          2.12229,
          2.1221520000000003,
          2.1186540000000003,
          2.111222,
          2.1055,
          2.1054,
          2.105,
          2.0983,
          2.097126,
          2.0954,
          2.105,
          2.1084,
          2.1083,
          2.1121,
          2.1159,
          2.113599,
          2.1111,
          2.1151,
          2.12,
          2.1224,
          2.1319,
          2.1312,
          2.1312,
          2.1264,
          2.1305,
          2.1326,
          2.1354,
          2.1404,
          2.1425,
          2.1385,
          2.1409,
          2.144,
          2.1405,
          2.1426,
          2.1422,
          2.1439,
          2.1443,
          2.1421,
          2.139652,
          2.143,
          2.1435,
          2.143888,
          2.1449,
          2.1457,
          2.1493,
          2.1512,
          2.1464,
          2.1474,
          2.1449,
          2.1433,
          2.1446,
          2.1432,
          2.1394,
          2.137,
          2.1355,
          2.1291,
          2.1265,
          2.1296,
          2.1274,
          2.1206,
          2.118366,
          2.1138,
          2.10882,
          2.113,
          2.1071,
          2.107991,
          2.112037,
          2.1123,
          2.1147,
          2.1127,
          2.11363,
          2.1131830000000003,
          2.1245,
          2.133,
          2.133073,
          2.1276,
          2.112943,
          2.1118080000000004,
          2.1074,
          2.101515,
          2.09308,
          2.0898,
          2.086886,
          2.084596,
          2.099532,
          2.0981,
          2.093968,
          2.0946,
          2.089775,
          2.088,
          2.083565,
          2.0809,
          2.0771,
          2.0749,
          2.069972,
          2.0695,
          2.071187,
          2.0707,
          2.071873,
          2.064495,
          2.069429,
          2.06607,
          2.061169,
          2.068022,
          2.078333,
          2.07688,
          2.079854,
          2.079973,
          2.07999,
          2.074561,
          2.068921,
          2.075111,
          2.0758,
          2.073646,
          2.071348,
          2.0665880000000003,
          2.0767,
          2.079128,
          2.0757,
          2.08,
          2.0864,
          2.085509,
          2.088732,
          2.0862,
          2.088178,
          2.0852,
          2.0844,
          2.0711880000000003,
          2.068002,
          2.0826,
          2.083
         ],
         "low": [
          2.056,
          2.059,
          2.0540000000000003,
          2.055,
          2.055773,
          2.052,
          2.056,
          2.057,
          2.0580000000000003,
          2.060871,
          2.059,
          2.059,
          2.062,
          2.063,
          2.064,
          2.064752,
          2.073,
          2.075,
          2.08,
          2.081,
          2.0899490000000003,
          2.085,
          2.076,
          2.077,
          2.084,
          2.086,
          2.091,
          2.094,
          2.096,
          2.0980000000000003,
          2.099,
          2.099,
          2.096,
          2.094,
          2.091,
          2.087,
          2.089,
          2.093,
          2.103,
          2.104,
          2.1,
          2.099,
          2.102,
          2.101,
          2.1,
          2.0980000000000003,
          2.099,
          2.103,
          2.104,
          2.103,
          2.1,
          2.099,
          2.101,
          2.101,
          2.099,
          2.095,
          2.094,
          2.096,
          2.096,
          2.099999,
          2.101,
          2.102,
          2.102,
          2.0936,
          2.095,
          2.105,
          2.114974,
          2.113,
          2.113,
          2.119,
          2.116,
          2.108,
          2.101,
          2.1,
          2.102,
          2.092,
          2.093,
          2.089,
          2.09,
          2.09,
          2.104,
          2.102,
          2.103,
          2.109,
          2.103,
          2.102,
          2.108,
          2.112,
          2.115,
          2.12,
          2.122,
          2.121,
          2.12,
          2.116,
          2.12,
          2.128,
          2.131,
          2.132,
          2.1289,
          2.1301,
          2.129,
          2.1318,
          2.135,
          2.136,
          2.135,
          2.138,
          2.136,
          2.132,
          2.134,
          2.135,
          2.138,
          2.136,
          2.139,
          2.142,
          2.142,
          2.139,
          2.14,
          2.14,
          2.136,
          2.134,
          2.135,
          2.134,
          2.131,
          2.124,
          2.122,
          2.12,
          2.12,
          2.117,
          2.111,
          2.105,
          2.104,
          2.103,
          2.102,
          2.094,
          2.097,
          2.097,
          2.0980000000000003,
          2.1028,
          2.104,
          2.108,
          2.105865,
          2.111,
          2.1186,
          2.124,
          2.105,
          2.103,
          2.1038,
          2.0982,
          2.088,
          2.086,
          2.081702,
          2.076,
          2.075,
          2.0747,
          2.083,
          2.0780000000000003,
          2.083,
          2.081,
          2.08,
          2.074,
          2.068,
          2.065,
          2.06,
          2.063,
          2.059,
          2.059,
          2.06,
          2.061,
          2.0580000000000003,
          2.056,
          2.057,
          2.0540000000000003,
          2.055,
          2.065,
          2.067,
          2.071,
          2.073,
          2.071,
          2.061,
          2.06,
          2.065,
          2.066,
          2.066,
          2.061,
          2.061,
          2.063,
          2.0709,
          2.065,
          2.067,
          2.075,
          2.08,
          2.08,
          2.082,
          2.083,
          2.081,
          2.0638,
          2.064,
          2.061,
          2.064,
          2.0780000000000003
         ],
         "open": [
          2.066398833333333,
          2.0610686666666664,
          2.0599331666666667,
          2.056624833333333,
          2.0623815,
          2.0581616666666664,
          2.0619765,
          2.059212833333333,
          2.063259166666666,
          2.0624756666666664,
          2.065636833333333,
          2.0609032,
          2.0643613333333337,
          2.065777166666667,
          2.067451,
          2.066291,
          2.0751655,
          2.076615166666667,
          2.0815966666666665,
          2.0825825000000004,
          2.09576,
          2.0937504,
          2.0877991666666667,
          2.0784616666666667,
          2.088602166666667,
          2.089189,
          2.0958661666666667,
          2.097460666666667,
          2.099549833333333,
          2.100095666666667,
          2.1026045,
          2.100466166666666,
          2.102501333333333,
          2.097261833333333,
          2.0959605,
          2.0929115,
          2.0915383333333333,
          2.0947645,
          2.1047245,
          2.1075508333333333,
          2.104785166666667,
          2.1014088333333336,
          2.1039665000000003,
          2.1039890000000003,
          2.103088833333333,
          2.1033261666666667,
          2.0998606666666664,
          2.1045580000000004,
          2.1053778,
          2.104942,
          2.104267666666667,
          2.1017594,
          2.1025166666666664,
          2.1021518,
          2.1023705999999995,
          2.10022,
          2.096843833333333,
          2.0976598333333336,
          2.0977627999999995,
          2.1014655,
          2.102899333333333,
          2.1030436666666668,
          2.1031516,
          2.104435833333333,
          2.0979195,
          2.1068925000000003,
          2.1170085000000003,
          2.124680333333333,
          2.1151611666666668,
          2.120134166666667,
          2.1216092000000004,
          2.117202333333333,
          2.109099833333333,
          2.103037833333333,
          2.1040312,
          2.103850333333334,
          2.0967688333333334,
          2.094679333333333,
          2.0919045,
          2.0929741666666666,
          2.1047318333333336,
          2.1068121666666664,
          2.1051708333333337,
          2.1108423333333337,
          2.1118405,
          2.1048180000000003,
          2.109949166666667,
          2.1136901666666668,
          2.117979666666667,
          2.1206763333333334,
          2.1275061666666666,
          2.1297375,
          2.1247113333333334,
          2.120772,
          2.1223731666666668,
          2.129941833333333,
          2.1328628333333337,
          2.1390065000000003,
          2.1371973333333334,
          2.1325015,
          2.1402823333333334,
          2.1347434999999995,
          2.138027833333333,
          2.13984,
          2.1392643333333337,
          2.1414726666666666,
          2.140943333333333,
          2.137797,
          2.1366571666666663,
          2.1379711666666665,
          2.141696333333333,
          2.1421455000000003,
          2.1427849999999995,
          2.1438200000000003,
          2.145875166666667,
          2.145081833333333,
          2.1424695,
          2.143078833333333,
          2.141494,
          2.1372866000000004,
          2.1414993333333334,
          2.1383820000000004,
          2.1357190000000004,
          2.1333436666666667,
          2.1274085,
          2.1248055000000003,
          2.1253878333333334,
          2.122372,
          2.119056,
          2.114303,
          2.1078576666666664,
          2.106718666666667,
          2.1059086666666667,
          2.105138666666667,
          2.098855,
          2.103129833333333,
          2.1071346666666666,
          2.1112025,
          2.1102186666666665,
          2.110042,
          2.1118053333333333,
          2.1122248333333333,
          2.1214953333333333,
          2.1306576666666666,
          2.125057833333333,
          2.107701,
          2.106135,
          2.105233333333333,
          2.099032,
          2.089789666666667,
          2.0879231666666658,
          2.083814166666667,
          2.0810806666666664,
          2.0774293333333333,
          2.0918586666666665,
          2.085064,
          2.0924271666666665,
          2.0848135,
          2.0870333333333333,
          2.0818825000000003,
          2.0779056666666667,
          2.0726921666666667,
          2.0723828333333327,
          2.067252333333333,
          2.064408,
          2.063733833333333,
          2.0660085,
          2.068413,
          2.062011,
          2.060618,
          2.059125,
          2.0589316666666666,
          2.0575205000000003,
          2.0671991666666667,
          2.069396,
          2.072984,
          2.0772768,
          2.074739166666667,
          2.0723353333333336,
          2.063944,
          2.066920333333333,
          2.073588,
          2.071358,
          2.0690703333333342,
          2.0632326666666665,
          2.065725666666667,
          2.0749893333333334,
          2.073075166666667,
          2.0693915,
          2.0788181666666667,
          2.083292833333333,
          2.0827641666666663,
          2.0851321666666665,
          2.0849525,
          2.083949666666667,
          2.0832441666666663,
          2.067776166666667,
          2.0657346666666667,
          2.0655536666666667,
          2.0811355
         ],
         "type": "candlestick",
         "x": [
          1632170460,
          1632170520,
          1632170580,
          1632170640,
          1632170700,
          1632170760,
          1632170820,
          1632170880,
          1632170940,
          1632171000,
          1632171060,
          1632171120,
          1632171180,
          1632171240,
          1632171300,
          1632171360,
          1632171420,
          1632171480,
          1632171540,
          1632171600,
          1632171660,
          1632171720,
          1632171780,
          1632171840,
          1632171900,
          1632171960,
          1632172020,
          1632172080,
          1632172140,
          1632172200,
          1632172260,
          1632172320,
          1632172380,
          1632172440,
          1632172500,
          1632172560,
          1632172620,
          1632172680,
          1632172740,
          1632172800,
          1632172860,
          1632172920,
          1632172980,
          1632173040,
          1632173100,
          1632173160,
          1632173220,
          1632173280,
          1632173340,
          1632173400,
          1632173460,
          1632173520,
          1632173580,
          1632173640,
          1632173700,
          1632173760,
          1632173820,
          1632173880,
          1632173940,
          1632174000,
          1632174060,
          1632174120,
          1632174180,
          1632174240,
          1632174300,
          1632174360,
          1632174420,
          1632174480,
          1632174540,
          1632174600,
          1632174660,
          1632174720,
          1632174780,
          1632174840,
          1632174900,
          1632174960,
          1632175020,
          1632175080,
          1632175140,
          1632175200,
          1632175260,
          1632175320,
          1632175380,
          1632175440,
          1632175500,
          1632175560,
          1632175620,
          1632175680,
          1632175740,
          1632175800,
          1632175860,
          1632175920,
          1632175980,
          1632176040,
          1632176100,
          1632176160,
          1632176220,
          1632176280,
          1632176340,
          1632176400,
          1632176460,
          1632176520,
          1632176580,
          1632176640,
          1632176700,
          1632176760,
          1632176820,
          1632176880,
          1632176940,
          1632177000,
          1632177060,
          1632177120,
          1632177180,
          1632177240,
          1632177300,
          1632177360,
          1632177420,
          1632177480,
          1632177540,
          1632177600,
          1632177660,
          1632177720,
          1632177780,
          1632177840,
          1632177900,
          1632177960,
          1632178020,
          1632178080,
          1632178140,
          1632178200,
          1632178260,
          1632178320,
          1632178380,
          1632178440,
          1632178500,
          1632178560,
          1632178620,
          1632178680,
          1632178740,
          1632178800,
          1632178860,
          1632178920,
          1632178980,
          1632179040,
          1632179100,
          1632179160,
          1632179220,
          1632179280,
          1632179340,
          1632179400,
          1632179460,
          1632179520,
          1632179580,
          1632179640,
          1632179700,
          1632179760,
          1632179820,
          1632179880,
          1632179940,
          1632180000,
          1632180060,
          1632180120,
          1632180180,
          1632180240,
          1632180300,
          1632180360,
          1632180420,
          1632180480,
          1632180540,
          1632180600,
          1632180660,
          1632180720,
          1632180780,
          1632180840,
          1632180900,
          1632180960,
          1632181020,
          1632181080,
          1632181140,
          1632181200,
          1632181260,
          1632181320,
          1632181380,
          1632181440,
          1632181500,
          1632181560,
          1632181620,
          1632181680,
          1632181740,
          1632181800,
          1632181860,
          1632181920,
          1632181980,
          1632182040,
          1632182100,
          1632182160,
          1632182220,
          1632182280,
          1632182340,
          1632182400
         ]
        }
       ],
       "layout": {
        "template": {
         "data": {
          "bar": [
           {
            "error_x": {
             "color": "#2a3f5f"
            },
            "error_y": {
             "color": "#2a3f5f"
            },
            "marker": {
             "line": {
              "color": "#E5ECF6",
              "width": 0.5
             }
            },
            "type": "bar"
           }
          ],
          "barpolar": [
           {
            "marker": {
             "line": {
              "color": "#E5ECF6",
              "width": 0.5
             }
            },
            "type": "barpolar"
           }
          ],
          "carpet": [
           {
            "aaxis": {
             "endlinecolor": "#2a3f5f",
             "gridcolor": "white",
             "linecolor": "white",
             "minorgridcolor": "white",
             "startlinecolor": "#2a3f5f"
            },
            "baxis": {
             "endlinecolor": "#2a3f5f",
             "gridcolor": "white",
             "linecolor": "white",
             "minorgridcolor": "white",
             "startlinecolor": "#2a3f5f"
            },
            "type": "carpet"
           }
          ],
          "choropleth": [
           {
            "colorbar": {
             "outlinewidth": 0,
             "ticks": ""
            },
            "type": "choropleth"
           }
          ],
          "contour": [
           {
            "colorbar": {
             "outlinewidth": 0,
             "ticks": ""
            },
            "colorscale": [
             [
              0,
              "#0d0887"
             ],
             [
              0.1111111111111111,
              "#46039f"
             ],
             [
              0.2222222222222222,
              "#7201a8"
             ],
             [
              0.3333333333333333,
              "#9c179e"
             ],
             [
              0.4444444444444444,
              "#bd3786"
             ],
             [
              0.5555555555555556,
              "#d8576b"
             ],
             [
              0.6666666666666666,
              "#ed7953"
             ],
             [
              0.7777777777777778,
              "#fb9f3a"
             ],
             [
              0.8888888888888888,
              "#fdca26"
             ],
             [
              1,
              "#f0f921"
             ]
            ],
            "type": "contour"
           }
          ],
          "contourcarpet": [
           {
            "colorbar": {
             "outlinewidth": 0,
             "ticks": ""
            },
            "type": "contourcarpet"
           }
          ],
          "heatmap": [
           {
            "colorbar": {
             "outlinewidth": 0,
             "ticks": ""
            },
            "colorscale": [
             [
              0,
              "#0d0887"
             ],
             [
              0.1111111111111111,
              "#46039f"
             ],
             [
              0.2222222222222222,
              "#7201a8"
             ],
             [
              0.3333333333333333,
              "#9c179e"
             ],
             [
              0.4444444444444444,
              "#bd3786"
             ],
             [
              0.5555555555555556,
              "#d8576b"
             ],
             [
              0.6666666666666666,
              "#ed7953"
             ],
             [
              0.7777777777777778,
              "#fb9f3a"
             ],
             [
              0.8888888888888888,
              "#fdca26"
             ],
             [
              1,
              "#f0f921"
             ]
            ],
            "type": "heatmap"
           }
          ],
          "heatmapgl": [
           {
            "colorbar": {
             "outlinewidth": 0,
             "ticks": ""
            },
            "colorscale": [
             [
              0,
              "#0d0887"
             ],
             [
              0.1111111111111111,
              "#46039f"
             ],
             [
              0.2222222222222222,
              "#7201a8"
             ],
             [
              0.3333333333333333,
              "#9c179e"
             ],
             [
              0.4444444444444444,
              "#bd3786"
             ],
             [
              0.5555555555555556,
              "#d8576b"
             ],
             [
              0.6666666666666666,
              "#ed7953"
             ],
             [
              0.7777777777777778,
              "#fb9f3a"
             ],
             [
              0.8888888888888888,
              "#fdca26"
             ],
             [
              1,
              "#f0f921"
             ]
            ],
            "type": "heatmapgl"
           }
          ],
          "histogram": [
           {
            "marker": {
             "colorbar": {
              "outlinewidth": 0,
              "ticks": ""
             }
            },
            "type": "histogram"
           }
          ],
          "histogram2d": [
           {
            "colorbar": {
             "outlinewidth": 0,
             "ticks": ""
            },
            "colorscale": [
             [
              0,
              "#0d0887"
             ],
             [
              0.1111111111111111,
              "#46039f"
             ],
             [
              0.2222222222222222,
              "#7201a8"
             ],
             [
              0.3333333333333333,
              "#9c179e"
             ],
             [
              0.4444444444444444,
              "#bd3786"
             ],
             [
              0.5555555555555556,
              "#d8576b"
             ],
             [
              0.6666666666666666,
              "#ed7953"
             ],
             [
              0.7777777777777778,
              "#fb9f3a"
             ],
             [
              0.8888888888888888,
              "#fdca26"
             ],
             [
              1,
              "#f0f921"
             ]
            ],
            "type": "histogram2d"
           }
          ],
          "histogram2dcontour": [
           {
            "colorbar": {
             "outlinewidth": 0,
             "ticks": ""
            },
            "colorscale": [
             [
              0,
              "#0d0887"
             ],
             [
              0.1111111111111111,
              "#46039f"
             ],
             [
              0.2222222222222222,
              "#7201a8"
             ],
             [
              0.3333333333333333,
              "#9c179e"
             ],
             [
              0.4444444444444444,
              "#bd3786"
             ],
             [
              0.5555555555555556,
              "#d8576b"
             ],
             [
              0.6666666666666666,
              "#ed7953"
             ],
             [
              0.7777777777777778,
              "#fb9f3a"
             ],
             [
              0.8888888888888888,
              "#fdca26"
             ],
             [
              1,
              "#f0f921"
             ]
            ],
            "type": "histogram2dcontour"
           }
          ],
          "mesh3d": [
           {
            "colorbar": {
             "outlinewidth": 0,
             "ticks": ""
            },
            "type": "mesh3d"
           }
          ],
          "parcoords": [
           {
            "line": {
             "colorbar": {
              "outlinewidth": 0,
              "ticks": ""
             }
            },
            "type": "parcoords"
           }
          ],
          "pie": [
           {
            "automargin": true,
            "type": "pie"
           }
          ],
          "scatter": [
           {
            "marker": {
             "colorbar": {
              "outlinewidth": 0,
              "ticks": ""
             }
            },
            "type": "scatter"
           }
          ],
          "scatter3d": [
           {
            "line": {
             "colorbar": {
              "outlinewidth": 0,
              "ticks": ""
             }
            },
            "marker": {
             "colorbar": {
              "outlinewidth": 0,
              "ticks": ""
             }
            },
            "type": "scatter3d"
           }
          ],
          "scattercarpet": [
           {
            "marker": {
             "colorbar": {
              "outlinewidth": 0,
              "ticks": ""
             }
            },
            "type": "scattercarpet"
           }
          ],
          "scattergeo": [
           {
            "marker": {
             "colorbar": {
              "outlinewidth": 0,
              "ticks": ""
             }
            },
            "type": "scattergeo"
           }
          ],
          "scattergl": [
           {
            "marker": {
             "colorbar": {
              "outlinewidth": 0,
              "ticks": ""
             }
            },
            "type": "scattergl"
           }
          ],
          "scattermapbox": [
           {
            "marker": {
             "colorbar": {
              "outlinewidth": 0,
              "ticks": ""
             }
            },
            "type": "scattermapbox"
           }
          ],
          "scatterpolar": [
           {
            "marker": {
             "colorbar": {
              "outlinewidth": 0,
              "ticks": ""
             }
            },
            "type": "scatterpolar"
           }
          ],
          "scatterpolargl": [
           {
            "marker": {
             "colorbar": {
              "outlinewidth": 0,
              "ticks": ""
             }
            },
            "type": "scatterpolargl"
           }
          ],
          "scatterternary": [
           {
            "marker": {
             "colorbar": {
              "outlinewidth": 0,
              "ticks": ""
             }
            },
            "type": "scatterternary"
           }
          ],
          "surface": [
           {
            "colorbar": {
             "outlinewidth": 0,
             "ticks": ""
            },
            "colorscale": [
             [
              0,
              "#0d0887"
             ],
             [
              0.1111111111111111,
              "#46039f"
             ],
             [
              0.2222222222222222,
              "#7201a8"
             ],
             [
              0.3333333333333333,
              "#9c179e"
             ],
             [
              0.4444444444444444,
              "#bd3786"
             ],
             [
              0.5555555555555556,
              "#d8576b"
             ],
             [
              0.6666666666666666,
              "#ed7953"
             ],
             [
              0.7777777777777778,
              "#fb9f3a"
             ],
             [
              0.8888888888888888,
              "#fdca26"
             ],
             [
              1,
              "#f0f921"
             ]
            ],
            "type": "surface"
           }
          ],
          "table": [
           {
            "cells": {
             "fill": {
              "color": "#EBF0F8"
             },
             "line": {
              "color": "white"
             }
            },
            "header": {
             "fill": {
              "color": "#C8D4E3"
             },
             "line": {
              "color": "white"
             }
            },
            "type": "table"
           }
          ]
         },
         "layout": {
          "annotationdefaults": {
           "arrowcolor": "#2a3f5f",
           "arrowhead": 0,
           "arrowwidth": 1
          },
          "autotypenumbers": "strict",
          "coloraxis": {
           "colorbar": {
            "outlinewidth": 0,
            "ticks": ""
           }
          },
          "colorscale": {
           "diverging": [
            [
             0,
             "#8e0152"
            ],
            [
             0.1,
             "#c51b7d"
            ],
            [
             0.2,
             "#de77ae"
            ],
            [
             0.3,
             "#f1b6da"
            ],
            [
             0.4,
             "#fde0ef"
            ],
            [
             0.5,
             "#f7f7f7"
            ],
            [
             0.6,
             "#e6f5d0"
            ],
            [
             0.7,
             "#b8e186"
            ],
            [
             0.8,
             "#7fbc41"
            ],
            [
             0.9,
             "#4d9221"
            ],
            [
             1,
             "#276419"
            ]
           ],
           "sequential": [
            [
             0,
             "#0d0887"
            ],
            [
             0.1111111111111111,
             "#46039f"
            ],
            [
             0.2222222222222222,
             "#7201a8"
            ],
            [
             0.3333333333333333,
             "#9c179e"
            ],
            [
             0.4444444444444444,
             "#bd3786"
            ],
            [
             0.5555555555555556,
             "#d8576b"
            ],
            [
             0.6666666666666666,
             "#ed7953"
            ],
            [
             0.7777777777777778,
             "#fb9f3a"
            ],
            [
             0.8888888888888888,
             "#fdca26"
            ],
            [
             1,
             "#f0f921"
            ]
           ],
           "sequentialminus": [
            [
             0,
             "#0d0887"
            ],
            [
             0.1111111111111111,
             "#46039f"
            ],
            [
             0.2222222222222222,
             "#7201a8"
            ],
            [
             0.3333333333333333,
             "#9c179e"
            ],
            [
             0.4444444444444444,
             "#bd3786"
            ],
            [
             0.5555555555555556,
             "#d8576b"
            ],
            [
             0.6666666666666666,
             "#ed7953"
            ],
            [
             0.7777777777777778,
             "#fb9f3a"
            ],
            [
             0.8888888888888888,
             "#fdca26"
            ],
            [
             1,
             "#f0f921"
            ]
           ]
          },
          "colorway": [
           "#636efa",
           "#EF553B",
           "#00cc96",
           "#ab63fa",
           "#FFA15A",
           "#19d3f3",
           "#FF6692",
           "#B6E880",
           "#FF97FF",
           "#FECB52"
          ],
          "font": {
           "color": "#2a3f5f"
          },
          "geo": {
           "bgcolor": "white",
           "lakecolor": "white",
           "landcolor": "#E5ECF6",
           "showlakes": true,
           "showland": true,
           "subunitcolor": "white"
          },
          "hoverlabel": {
           "align": "left"
          },
          "hovermode": "closest",
          "mapbox": {
           "style": "light"
          },
          "paper_bgcolor": "white",
          "plot_bgcolor": "#E5ECF6",
          "polar": {
           "angularaxis": {
            "gridcolor": "white",
            "linecolor": "white",
            "ticks": ""
           },
           "bgcolor": "#E5ECF6",
           "radialaxis": {
            "gridcolor": "white",
            "linecolor": "white",
            "ticks": ""
           }
          },
          "scene": {
           "xaxis": {
            "backgroundcolor": "#E5ECF6",
            "gridcolor": "white",
            "gridwidth": 2,
            "linecolor": "white",
            "showbackground": true,
            "ticks": "",
            "zerolinecolor": "white"
           },
           "yaxis": {
            "backgroundcolor": "#E5ECF6",
            "gridcolor": "white",
            "gridwidth": 2,
            "linecolor": "white",
            "showbackground": true,
            "ticks": "",
            "zerolinecolor": "white"
           },
           "zaxis": {
            "backgroundcolor": "#E5ECF6",
            "gridcolor": "white",
            "gridwidth": 2,
            "linecolor": "white",
            "showbackground": true,
            "ticks": "",
            "zerolinecolor": "white"
           }
          },
          "shapedefaults": {
           "line": {
            "color": "#2a3f5f"
           }
          },
          "ternary": {
           "aaxis": {
            "gridcolor": "white",
            "linecolor": "white",
            "ticks": ""
           },
           "baxis": {
            "gridcolor": "white",
            "linecolor": "white",
            "ticks": ""
           },
           "bgcolor": "#E5ECF6",
           "caxis": {
            "gridcolor": "white",
            "linecolor": "white",
            "ticks": ""
           }
          },
          "title": {
           "x": 0.05
          },
          "xaxis": {
           "automargin": true,
           "gridcolor": "white",
           "linecolor": "white",
           "ticks": "",
           "title": {
            "standoff": 15
           },
           "zerolinecolor": "white",
           "zerolinewidth": 2
          },
          "yaxis": {
           "automargin": true,
           "gridcolor": "white",
           "linecolor": "white",
           "ticks": "",
           "title": {
            "standoff": 15
           },
           "zerolinecolor": "white",
           "zerolinewidth": 2
          }
         }
        }
       }
      }
     },
     "metadata": {},
     "output_type": "display_data"
    }
   ],
   "source": [
    "idi, last = 1, 200  # 1 pour Bitcoin et 200 dernières minutes\n",
    "sub = df_train[df_train[\"Asset_ID\"]==1].set_index(\"timestamp\").iloc[-last:] \n",
    "fig = go.Figure(data=[go.Candlestick(\n",
    "    x=sub.index, \n",
    "    open=sub['Open'], \n",
    "    high=sub['High'], \n",
    "    low=sub['Low'], \n",
    "    close=sub['Close'])])\n",
    "fig.show()"
   ]
  },
  {
   "cell_type": "markdown",
   "metadata": {},
   "source": [
    "## Première comparaison"
   ]
  },
  {
   "cell_type": "code",
   "execution_count": 17,
   "metadata": {},
   "outputs": [
    {
     "data": {
      "image/png": "[encoded data removed]",
      "text/plain": [
       "<Figure size 1080x720 with 1 Axes>"
      ]
     },
     "metadata": {},
     "output_type": "display_data"
    }
   ],
   "source": [
    "f, ax = plt.subplots(figsize=(15,10))\n",
    "for i in sorted(IDs):\n",
    "    name = df_asset_details[df_asset_details[\"Asset_ID\"]==i][\"Asset_Name\"].values[0]\n",
    "    values = df[df['Asset_ID']==i]['Close'].values\n",
    "    ax.plot(values / values.max(), label=name)\n",
    "plt.legend()\n",
    "plt.xlabel('Temps (min)')\n",
    "plt.ylabel('Valeur normalisée')\n",
    "plt.show()"
   ]
  },
  {
   "cell_type": "markdown",
   "metadata": {},
   "source": [
    "Les actifs ont une histoire assez différente, mais on voit clairement de forte inter-corrélations.  \n",
    "Un meilleur format pour analyser de tels mouvements consiste à calculer les rendements des actifs."
   ]
  },
  {
   "cell_type": "code",
   "execution_count": null,
   "metadata": {},
   "outputs": [],
   "source": [
    "# Premiers relevés manquants pour certaines crypto-monnaies :\n",
    "# ID   start  \n",
    "#  3  160000   8%\n",
    "#  4  680000  35%\n",
    "#  8  190000  10%\n",
    "# 10  190000  10%\n",
    "# 12   70000   4%\n",
    "# 13   60000   3%"
   ]
  },
  {
   "cell_type": "markdown",
   "metadata": {},
   "source": [
    "## Log Return\n",
    "Afin d'analyser les variations de prix d'un actif, nous pouvons traiter la différence de prix. \n",
    "Cependant, différents actifs présentent des échelles de prix différentes, de sorte que leurs rendements ne sont pas facilement comparables. \n",
    "Nous pouvons résoudre ce problème en calculant plutôt le pourcentage de variation du prix, également appelé rendement. \n",
    "Ce rendement coïncide avec la variation en pourcentage de notre capital investi.\n",
    "\n",
    "Les rendements sont largement utilisés en finance, mais les rendements logarithmiques sont préférés pour la modélisation mathématique des séries chronologiques, car ils s'additionnent dans le temps. \n",
    "De plus, bien que les retours normaux ne puissent pas descendre en dessous de -100 %, les retours de journaux ne sont pas limités.\n",
    "\n",
    "Pour calculer le **log return**, on peut simplement prendre le logarithme du rapport entre deux prix consécutifs. \n",
    "La première ligne aura un retour vide car la valeur précédente est inconnue, donc le point de données de retour vide sera supprimé."
   ]
  },
  {
   "cell_type": "code",
   "execution_count": 37,
   "metadata": {},
   "outputs": [],
   "source": [
    "def log_return(series, periods=1):\n",
    "    \"\"\"Function to compute the log return.\"\"\"\n",
    "    return np.log(series).diff(periods=periods)\n",
    "\n",
    "for i in sorted(IDs):\n",
    "    df.loc[df['Asset_ID'] == i, 'Log_return'] = log_return(df.loc[df['Asset_ID'] == i, 'Close'])"
   ]
  },
  {
   "cell_type": "code",
   "execution_count": 39,
   "metadata": {},
   "outputs": [
    {
     "data": {
      "image/png": "[encoded data removed]",
      "text/plain": [
       "<Figure size 1080x720 with 1 Axes>"
      ]
     },
     "metadata": {},
     "output_type": "display_data"
    }
   ],
   "source": [
    "plt.figure(figsize=(15,10))\n",
    "for i in sorted(IDs):\n",
    "    name = df_asset_details[df_asset_details[\"Asset_ID\"]==i][\"Asset_Name\"].values[0]\n",
    "    plt.plot(df.loc[df['Asset_ID'] == i, 'Log_return'][1:], label=name)\n",
    "plt.legend()\n",
    "plt.xlabel('Temps (min)')\n",
    "plt.ylabel('Log Return')\n",
    "plt.show()"
   ]
  },
  {
   "cell_type": "markdown",
   "metadata": {},
   "source": [
    "Le signal ressemble maintenant plus à du bruit blanc, avec moins de dérive que la série chronologique des prix."
   ]
  },
  {
   "cell_type": "markdown",
   "metadata": {},
   "source": [
    "## Corrélation entre les actifs\n",
    "Nous avons émis l'hypothèse avant que les rendements des actifs cryptographiques puissent présenter une certaine corrélation.\n",
    "Vérifions cela plus en détail maintenant.\n",
    "Nous pouvons vérifier comment la corrélation entre Bitcoin et Ethereum évolue dans le temps pour une période plus courte."
   ]
  },
  {
   "cell_type": "code",
   "execution_count": 52,
   "metadata": {},
   "outputs": [
    {
     "data": {
      "image/png": "[encoded data removed]",
      "text/plain": [
       "<Figure size 432x288 with 1 Axes>"
      ]
     },
     "metadata": {},
     "output_type": "display_data"
    }
   ],
   "source": [
    "two_assets = pd.concat([\n",
    "    df.loc[df['Asset_ID'] == 1, 'Log_return'][1:],\n",
    "    df.loc[df['Asset_ID'] == 6, 'Log_return'][1:]\n",
    "    ], axis=1)\n",
    "two_assets.columns = ['BTC','ETH']\n",
    "\n",
    "# group consecutive rows and use .corr() for correlation between columns\n",
    "corr_time = two_assets.groupby(two_assets.index//(10000*60)).corr().loc[:,\"BTC\"].loc[:,\"ETH\"]\n",
    "\n",
    "corr_time.plot()\n",
    "plt.xticks([])\n",
    "plt.ylabel(\"Corrélation\")\n",
    "plt.title(\"Corrélation entre BTC et ETH au cours du temps\")\n",
    "plt.show()"
   ]
  },
  {
   "cell_type": "markdown",
   "metadata": {},
   "source": [
    "La corrélation entre les actifs est élevée mais variable. \n",
    "Ici, nous pouvons voir qu'il y a une dynamique changeante au fil du temps, et c'est essentiel pour ce défi : comment effectuer des prévisions dans un environnement hautement non stationnaire.\n",
    "\n",
    "Un comportement stationnaire d'un système ou d'un processus est caractérisé par des propriétés statistiques non changeantes dans le temps telles que la moyenne, la variance et l'autocorrélation. \n",
    "D'autre part, un comportement non stationnaire est caractérisé par un changement continu des propriétés statistiques au cours du temps. \n",
    "La stationnarité est importante car de nombreux outils analytiques utiles et des tests et modèles statistiques en dépendent.\n",
    "\n",
    "Nous pouvons également vérifier la corrélation entre tous les actifs en visualisant la matrice de corrélation. "
   ]
  },
  {
   "cell_type": "code",
   "execution_count": 57,
   "metadata": {},
   "outputs": [],
   "source": [
    "all_assets_2021 = pd.DataFrame([])\n",
    "for asset_id, asset_name in zip(df_asset_details.Asset_ID, df_asset_details.Asset_Name):\n",
    "    lret = df.loc[df[\"Asset_ID\"]==asset_id, 'Log_return'].loc[totimestamp('01/01/2021'):totimestamp('01/05/2021')]\n",
    "    all_assets_2021 = all_assets_2021.join(lret, rsuffix=asset_name, how=\"outer\")"
   ]
  },
  {
   "cell_type": "code",
   "execution_count": 59,
   "metadata": {},
   "outputs": [
    {
     "data": {
      "image/png": "[encoded data removed]",
      "text/plain": [
       "<Figure size 432x288 with 2 Axes>"
      ]
     },
     "metadata": {},
     "output_type": "display_data"
    }
   ],
   "source": [
    "plt.imshow(all_assets_2021.corr())\n",
    "plt.yticks(df_asset_details.Asset_ID.values, df_asset_details.Asset_Name.values)\n",
    "plt.xticks(df_asset_details.Asset_ID.values, df_asset_details.Asset_Name.values, rotation='vertical')\n",
    "plt.colorbar()\n",
    "plt.show()"
   ]
  },
  {
   "cell_type": "markdown",
   "metadata": {},
   "source": [
    "Notons comment certains actifs ont une corrélation par paires beaucoup plus élevée que d'autres.  \n",
    "Il est nécessaire d'effectuer des analyses statistiques supplémentaires pour mieux comprendre l'ensemble de données, y compris l'autocorrélation, la décomposition de séries chronologiques et les tests de stationnarité."
   ]
  },
  {
   "cell_type": "markdown",
   "metadata": {},
   "source": [
    "# Sauvegarde"
   ]
  },
  {
   "cell_type": "code",
   "execution_count": 61,
   "metadata": {},
   "outputs": [],
   "source": [
    "df.to_csv(data_folder + 'train_with_log_return.csv')"
   ]
  }
 ],
 "metadata": {
  "interpreter": {
   "hash": "29a7bb532b04997b4c38acaeacc11e653d7f97cccb99f9a276341dc76c96ce9f"
  },
  "kernelspec": {
   "display_name": "Python 3.7.10 64-bit ('machine-learning': conda)",
   "language": "python",
   "name": "python3"
  },
  "language_info": {
   "codemirror_mode": {
    "name": "ipython",
    "version": 3
   },
   "file_extension": ".py",
   "mimetype": "text/x-python",
   "name": "python",
   "nbconvert_exporter": "python",
   "pygments_lexer": "ipython3",
   "version": "3.7.10"
  },
  "orig_nbformat": 4
 },
 "nbformat": 4,
 "nbformat_minor": 2
}
